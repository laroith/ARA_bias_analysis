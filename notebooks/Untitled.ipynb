{
 "cells": [
  {
   "cell_type": "code",
   "execution_count": 1,
   "id": "e3127e59-75db-4853-b096-c942c4585861",
   "metadata": {},
   "outputs": [
    {
     "name": "stdout",
     "output_type": "stream",
     "text": [
      "Weather Type DataArray:\n",
      " <xarray.DataArray 'weather_type' (time: 23741)> Size: 190kB\n",
      "array([6, 3, 2, ..., 8, 8, 8], shape=(23741,))\n",
      "Coordinates:\n",
      "  * time     (time) datetime64[ns] 190kB 1958-01-01T11:00:00 ... 2022-12-31T1...\n",
      "Filtered Dataset (wt in [1,3]):\n",
      " <xarray.Dataset> Size: 2GB\n",
      "Dimensions:        (time: 48, lat: 492, lon: 594, member: 10)\n",
      "Coordinates:\n",
      "  * member         (member) object 80B '00' '01' '02' '03' ... '07' '08' '09'\n",
      "  * time           (time) datetime64[ns] 384B 2017-10-01 ... 2017-10-02T23:00:00\n",
      "Dimensions without coordinates: lat, lon\n",
      "Data variables:\n",
      "    latitude       (time, lat, lon, member) float32 561MB 42.98 42.98 ... 51.82\n",
      "    longitude      (time, lat, lon, member) float32 561MB 5.498 5.498 ... 22.1\n",
      "    precipitation  (time, lat, lon, member) float64 1GB 0.0 0.0 0.0 ... 0.0 0.0\n",
      "Times in filtered dataset: ['2017-10-01T00:00:00.000000000' '2017-10-01T01:00:00.000000000'\n",
      " '2017-10-01T02:00:00.000000000' '2017-10-01T03:00:00.000000000'\n",
      " '2017-10-01T04:00:00.000000000' '2017-10-01T05:00:00.000000000'\n",
      " '2017-10-01T06:00:00.000000000' '2017-10-01T07:00:00.000000000'\n",
      " '2017-10-01T08:00:00.000000000' '2017-10-01T09:00:00.000000000'\n",
      " '2017-10-01T10:00:00.000000000' '2017-10-01T11:00:00.000000000'\n",
      " '2017-10-01T12:00:00.000000000' '2017-10-01T13:00:00.000000000'\n",
      " '2017-10-01T14:00:00.000000000' '2017-10-01T15:00:00.000000000'\n",
      " '2017-10-01T16:00:00.000000000' '2017-10-01T17:00:00.000000000'\n",
      " '2017-10-01T18:00:00.000000000' '2017-10-01T19:00:00.000000000'\n",
      " '2017-10-01T20:00:00.000000000' '2017-10-01T21:00:00.000000000'\n",
      " '2017-10-01T22:00:00.000000000' '2017-10-01T23:00:00.000000000'\n",
      " '2017-10-02T00:00:00.000000000' '2017-10-02T01:00:00.000000000'\n",
      " '2017-10-02T02:00:00.000000000' '2017-10-02T03:00:00.000000000'\n",
      " '2017-10-02T04:00:00.000000000' '2017-10-02T05:00:00.000000000'\n",
      " '2017-10-02T06:00:00.000000000' '2017-10-02T07:00:00.000000000'\n",
      " '2017-10-02T08:00:00.000000000' '2017-10-02T09:00:00.000000000'\n",
      " '2017-10-02T10:00:00.000000000' '2017-10-02T11:00:00.000000000'\n",
      " '2017-10-02T12:00:00.000000000' '2017-10-02T13:00:00.000000000'\n",
      " '2017-10-02T14:00:00.000000000' '2017-10-02T15:00:00.000000000'\n",
      " '2017-10-02T16:00:00.000000000' '2017-10-02T17:00:00.000000000'\n",
      " '2017-10-02T18:00:00.000000000' '2017-10-02T19:00:00.000000000'\n",
      " '2017-10-02T20:00:00.000000000' '2017-10-02T21:00:00.000000000'\n",
      " '2017-10-02T22:00:00.000000000' '2017-10-02T23:00:00.000000000']\n"
     ]
    }
   ],
   "source": [
    "# test_weather_filter.ipynb\n",
    "\n",
    "import xarray as xr\n",
    "import pandas as pd\n",
    "import numpy as np\n",
    "import sys\n",
    "import os\n",
    "\n",
    "\n",
    "sys.path.append(os.path.abspath(\"..\"))\n",
    "from scripts.weather_filter import load_weather_types_csv, filter_by_weather_types\n",
    "\n",
    "from scripts.ensemble_loader import load_ensemble_files\n",
    "from scripts.subsetting import subset_by_lat_lon, subset_time\n",
    "from scripts.utils import prepare_ensemble_grid, prepare_reference_grid\n",
    "import xarray as xr\n",
    "\n",
    "# --- Example File Pattern ---\n",
    "# Adjust the file pattern to match your ensemble file locations.\n",
    "ensemble_pattern = os.path.join(\"../data\", \"total_precipitation_2017*.nc\")\n",
    "chunks = {'time': 1, 'lat': 100, 'lon': 100}  # Example chunking for large files\n",
    "\n",
    "# --- Load the ensemble files ---\n",
    "ds_ensemble = load_ensemble_files(ensemble_pattern, chunks=None)\n",
    "\n",
    "\n",
    "\n",
    "# 2) Load the CSV as an xarray DataArray\n",
    "wt_da = load_weather_types_csv(\"../data/ERA-5_historical.csv\", date_col=\"date\", wt_col=\"slwt\")\n",
    "print(\"Weather Type DataArray:\\n\", wt_da)\n",
    "\n",
    "\n",
    "\n",
    "\n",
    "ds_filtered = filter_by_weather_types(ds_ensemble, wt_da, include_types=[6])\n",
    "print(\"Filtered Dataset (wt in [1,3]):\\n\", ds_filtered)\n",
    "\n",
    "\n",
    "# 5) Check time dimension\n",
    "print(\"Times in filtered dataset:\", ds_filtered.time.values)\n"
   ]
  },
  {
   "cell_type": "code",
   "execution_count": 3,
   "id": "fc619ec8-4db5-4edb-9ff9-c14329e5ea74",
   "metadata": {},
   "outputs": [
    {
     "name": "stdout",
     "output_type": "stream",
     "text": [
      "Loaded weather types:\n",
      " <xarray.DataArray 'weather_type' (time: 23741)> Size: 190kB\n",
      "array([6, 3, 2, ..., 8, 8, 8], shape=(23741,))\n",
      "Coordinates:\n",
      "  * time     (time) datetime64[ns] 190kB 1958-01-01T11:00:00 ... 2022-12-31T1...\n",
      "Filtered dataset:\n",
      " <xarray.Dataset> Size: 80B\n",
      "Dimensions:        (time: 0, lat: 492, lon: 594, member: 10)\n",
      "Coordinates:\n",
      "  * member         (member) object 80B '00' '01' '02' '03' ... '07' '08' '09'\n",
      "  * time           (time) datetime64[ns] 0B \n",
      "Dimensions without coordinates: lat, lon\n",
      "Data variables:\n",
      "    latitude       (time, lat, lon, member) float32 0B \n",
      "    longitude      (time, lat, lon, member) float32 0B \n",
      "    precipitation  (time, lat, lon, member) float64 0B \n",
      "Times in filtered dataset: []\n"
     ]
    }
   ],
   "source": [
    "from scripts.weather_filter import load_weather_types_csv, filter_by_weather_types\n",
    "from scripts.ensemble_loader import load_ensemble_files\n",
    "\n",
    "ensemble_pattern = \"../data/total_precipitation_2017*.nc\"\n",
    "ds_ensemble = load_ensemble_files(ensemble_pattern)\n",
    "\n",
    "wt_da = load_weather_types_csv(\n",
    "    \"../data/ERA-5_historical.csv\",\n",
    "    date_col=\"date\",  # The column name in CSV\n",
    "    wt_col=\"slwt\"     # The column with numeric weather-type ID\n",
    ")\n",
    "print(\"Loaded weather types:\\n\", wt_da)\n",
    "\n",
    "# Filter by weather type = [6]\n",
    "ds_filtered = filter_by_weather_types(ds_ensemble, wt_da, include_types=[3])\n",
    "print(\"Filtered dataset:\\n\", ds_filtered)\n",
    "print(\"Times in filtered dataset:\", ds_filtered.time.values)\n"
   ]
  },
  {
   "cell_type": "code",
   "execution_count": null,
   "id": "5ff2f87d-3ce5-4fbd-8fff-8c6940231393",
   "metadata": {},
   "outputs": [],
   "source": []
  }
 ],
 "metadata": {
  "kernelspec": {
   "display_name": "Python 3 (ipykernel)",
   "language": "python",
   "name": "python3"
  },
  "language_info": {
   "codemirror_mode": {
    "name": "ipython",
    "version": 3
   },
   "file_extension": ".py",
   "mimetype": "text/x-python",
   "name": "python",
   "nbconvert_exporter": "python",
   "pygments_lexer": "ipython3",
   "version": "3.13.1"
  }
 },
 "nbformat": 4,
 "nbformat_minor": 5
}
